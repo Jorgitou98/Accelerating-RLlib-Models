{
 "cells": [
  {
   "cell_type": "markdown",
   "metadata": {},
   "source": [
    "# Redes Neuronales de Convolución\n",
    "### Javier Guzmán Muñoz\n",
    "\n",
    "El siguiente notebook deja configuradas varias series neuronales que serán entrenadas con juegos del entorno GYM, de la categoría Atari Games, basados en imágenes y para los que tiene sentido usar una Red Neuronal de Convolución.\n",
    "\n",
    "Todos los entornos de esta categoría están basados en imágenes de dimensiones (210, 160, 3), esto es, imágenes de 210x160 píxeles con 3 capas de color (RGB).\n",
    "\n",
    "Las imágenes son modificadas con el preprocesador `GenericPixelPreprocessor`, que se encuentra disponible en `ray.rllib.models.preprocessors.py`. Este preprocesador, dada la dimensión que queremos que tenga nuestra imagen final (por defecto este valor es 84) la redimensiona para que tenga las dimensiones especificadas haciendo uso de la función `cv2.resize()`. Así, indicando en la configuración del agente el valor de dimensión especificado tendremos imágenes del tamaño en píxeles deseado.\n",
    "\n",
    "Por otro lado, la función `get_filter_config` definida en `ray.rllib.models.utils` nos porporciona valores para los filtros de convolución por defecto para imágenes de tamaños 84x84 o 42x42. Para otros tamaños estos filtros se deben configurar manualmente, con la restricción de que sus parámetros deben producir una salida de dimensiones \\[B, 1, 1, X\\]. \n",
    "\n",
    "Para especificar filtros de convolución debemos  tres valores:\n",
    "- `out_size`: tercera dimensión de la capa (número de filtros de convolución que aplicaremos)\n",
    "- `kernel`: dimesiones del filtro de convolución\n",
    "- `stride`: desplazamiento del filtro de convolución.\n",
    "\n",
    "Así, se crea una capa por cada filtro de convolución especificado, todas con `padding='same'` salvo la última que tiene `padding='valid'`. Esto quiere decir que todas las capas se rellenan con ceros para que el tamaño de la salida sea el mismo que el de la entrada. Así, el ancho y alto de salida de todas las capas menos la última vienen dados por:\n",
    "- Alto de salida: ceil(alto_entrada/stride)\n",
    "- Ancho de salida: ceil(ancho_entrada/stride)\n",
    "\n",
    "Los de la ultima capa obedecen a la fórmula: (dim_entrada-kernel_size)/stride +1, por lo que para que sea 1 debemos hacer que el kernel del último filtro de convolución sea igual al tamaño del ancho o largo de la última capa de convolución (esta ya se considera una capa totalmente conectada).\n"
   ]
  },
  {
   "cell_type": "code",
   "execution_count": 1,
   "metadata": {},
   "outputs": [
    {
     "name": "stdout",
     "output_type": "stream",
     "text": [
      "WARNING:tensorflow:From /usr/local/lib/python3.8/dist-packages/tensorflow/python/compat/v2_compat.py:96: disable_resource_variables (from tensorflow.python.ops.variable_scope) is deprecated and will be removed in a future version.\n",
      "Instructions for updating:\n",
      "non-resource variables are not supported in the long term\n"
     ]
    }
   ],
   "source": [
    "# Imports necesarios (copiados del notebook Prueba.inicial.ypnb)\n",
    "import ray\n",
    "import ray.rllib.agents.ppo as ppo\n",
    "import json, os, shutil, sys\n",
    "import gym\n",
    "import pprint\n",
    "import time\n",
    "import shelve\n",
    "from tensorflow import keras\n",
    "from ray import tune"
   ]
  },
  {
   "cell_type": "markdown",
   "metadata": {},
   "source": [
    "### Modelo con imágenes de entrada de tamaño 84x84 y filtros de convolución predefinidos."
   ]
  },
  {
   "cell_type": "code",
   "execution_count": 2,
   "metadata": {},
   "outputs": [
    {
     "name": "stderr",
     "output_type": "stream",
     "text": [
      "2020-12-03 23:58:14,784\tINFO services.py:1090 -- View the Ray dashboard at \u001b[1m\u001b[32mhttp://127.0.0.1:8265\u001b[39m\u001b[22m\n",
      "2020-12-03 23:58:17,781\tINFO trainer.py:592 -- Tip: set framework=tfe or the --eager flag to enable TensorFlow eager execution\n",
      "2020-12-03 23:58:17,783\tINFO trainer.py:1064 -- `_use_trajectory_view_api` only supported for PyTorch so far! Will run w/o.\n",
      "2020-12-03 23:58:17,783\tINFO trainer.py:617 -- Current log_level is WARN. For more information, set 'log_level': 'INFO' / 'DEBUG' or use the -v and -vv flags.\n",
      "\u001b[2m\u001b[36m(pid=2151)\u001b[0m WARNING:tensorflow:From /usr/local/lib/python3.8/dist-packages/tensorflow/python/compat/v2_compat.py:96: disable_resource_variables (from tensorflow.python.ops.variable_scope) is deprecated and will be removed in a future version.\n",
      "\u001b[2m\u001b[36m(pid=2151)\u001b[0m Instructions for updating:\n",
      "\u001b[2m\u001b[36m(pid=2151)\u001b[0m non-resource variables are not supported in the long term\n",
      "\u001b[2m\u001b[36m(pid=2154)\u001b[0m WARNING:tensorflow:From /usr/local/lib/python3.8/dist-packages/tensorflow/python/compat/v2_compat.py:96: disable_resource_variables (from tensorflow.python.ops.variable_scope) is deprecated and will be removed in a future version.\n",
      "\u001b[2m\u001b[36m(pid=2154)\u001b[0m Instructions for updating:\n",
      "\u001b[2m\u001b[36m(pid=2154)\u001b[0m non-resource variables are not supported in the long term\n",
      "2020-12-03 23:58:25,965\tWARNING util.py:40 -- Install gputil for GPU system monitoring.\n"
     ]
    },
    {
     "name": "stdout",
     "output_type": "stream",
     "text": [
      "{'fcnet_hiddens': [256, 256], 'fcnet_activation': 'tanh', 'conv_filters': [[16, [8, 8], 4], [32, [4, 4], 2], [256, [11, 11], 1]], 'conv_activation': 'relu', 'free_log_std': False, 'no_final_linear': False, 'vf_share_layers': False, 'use_lstm': False, 'max_seq_len': 20, 'lstm_cell_size': 256, 'lstm_use_prev_action_reward': False, '_time_major': False, 'framestack': True, 'dim': 84, 'grayscale': False, 'zero_mean': True, 'custom_model': None, 'custom_model_config': {}, 'custom_action_dist': None, 'custom_preprocessor': None}\n",
      "Model: \"functional_1\"\n",
      "__________________________________________________________________________________________________\n",
      "Layer (type)                    Output Shape         Param #     Connected to                     \n",
      "==================================================================================================\n",
      "observations (InputLayer)       [(None, 84, 84, 4)]  0                                            \n",
      "__________________________________________________________________________________________________\n",
      "conv_value_1 (Conv2D)           (None, 21, 21, 16)   4112        observations[0][0]               \n",
      "__________________________________________________________________________________________________\n",
      "conv1 (Conv2D)                  (None, 21, 21, 16)   4112        observations[0][0]               \n",
      "__________________________________________________________________________________________________\n",
      "conv_value_2 (Conv2D)           (None, 11, 11, 32)   8224        conv_value_1[0][0]               \n",
      "__________________________________________________________________________________________________\n",
      "conv2 (Conv2D)                  (None, 11, 11, 32)   8224        conv1[0][0]                      \n",
      "__________________________________________________________________________________________________\n",
      "conv_value_3 (Conv2D)           (None, 1, 1, 256)    991488      conv_value_2[0][0]               \n",
      "__________________________________________________________________________________________________\n",
      "conv3 (Conv2D)                  (None, 1, 1, 256)    991488      conv2[0][0]                      \n",
      "__________________________________________________________________________________________________\n",
      "conv_value_out (Conv2D)         (None, 1, 1, 1)      257         conv_value_3[0][0]               \n",
      "__________________________________________________________________________________________________\n",
      "conv_out (Conv2D)               (None, 1, 1, 6)      1542        conv3[0][0]                      \n",
      "__________________________________________________________________________________________________\n",
      "lambda (Lambda)                 (None, 1)            0           conv_value_out[0][0]             \n",
      "==================================================================================================\n",
      "Total params: 2,009,447\n",
      "Trainable params: 2,009,447\n",
      "Non-trainable params: 0\n",
      "__________________________________________________________________________________________________\n",
      "None\n"
     ]
    }
   ],
   "source": [
    "ray.shutdown()\n",
    "ray.init()\n",
    "config = ppo.DEFAULT_CONFIG.copy()\n",
    "agent = ppo.PPOTrainer(config, env='Pong-v0')\n",
    "policy=agent.get_policy()\n",
    "print(policy.model.model_config)\n",
    "print(policy.model.base_model.summary())"
   ]
  },
  {
   "cell_type": "markdown",
   "metadata": {},
   "source": [
    "### Modelo con imágenes de entrada de tamaño 42x42 y filtros de convolución predefinidos"
   ]
  },
  {
   "cell_type": "code",
   "execution_count": 5,
   "metadata": {},
   "outputs": [
    {
     "name": "stderr",
     "output_type": "stream",
     "text": [
      "2020-12-04 00:17:01,006\tINFO services.py:1090 -- View the Ray dashboard at \u001b[1m\u001b[32mhttp://127.0.0.1:8265\u001b[39m\u001b[22m\n",
      "\u001b[2m\u001b[36m(pid=2853)\u001b[0m WARNING:tensorflow:From /usr/local/lib/python3.8/dist-packages/tensorflow/python/compat/v2_compat.py:96: disable_resource_variables (from tensorflow.python.ops.variable_scope) is deprecated and will be removed in a future version.\n",
      "\u001b[2m\u001b[36m(pid=2853)\u001b[0m Instructions for updating:\n",
      "\u001b[2m\u001b[36m(pid=2853)\u001b[0m non-resource variables are not supported in the long term\n",
      "\u001b[2m\u001b[36m(pid=2854)\u001b[0m WARNING:tensorflow:From /usr/local/lib/python3.8/dist-packages/tensorflow/python/compat/v2_compat.py:96: disable_resource_variables (from tensorflow.python.ops.variable_scope) is deprecated and will be removed in a future version.\n",
      "\u001b[2m\u001b[36m(pid=2854)\u001b[0m Instructions for updating:\n",
      "\u001b[2m\u001b[36m(pid=2854)\u001b[0m non-resource variables are not supported in the long term\n",
      "2020-12-04 00:17:12,877\tWARNING util.py:40 -- Install gputil for GPU system monitoring.\n"
     ]
    },
    {
     "name": "stdout",
     "output_type": "stream",
     "text": [
      "{'fcnet_hiddens': [256, 256], 'fcnet_activation': 'tanh', 'conv_filters': [[16, [4, 4], 2], [32, [4, 4], 2], [256, [11, 11], 1]], 'conv_activation': 'relu', 'free_log_std': False, 'no_final_linear': False, 'vf_share_layers': False, 'use_lstm': False, 'max_seq_len': 20, 'lstm_cell_size': 256, 'lstm_use_prev_action_reward': False, '_time_major': False, 'framestack': True, 'dim': 42, 'grayscale': False, 'zero_mean': True, 'custom_model': None, 'custom_model_config': {}, 'custom_action_dist': None, 'custom_preprocessor': None}\n",
      "Model: \"functional_1\"\n",
      "__________________________________________________________________________________________________\n",
      "Layer (type)                    Output Shape         Param #     Connected to                     \n",
      "==================================================================================================\n",
      "observations (InputLayer)       [(None, 42, 42, 4)]  0                                            \n",
      "__________________________________________________________________________________________________\n",
      "conv_value_1 (Conv2D)           (None, 21, 21, 16)   1040        observations[0][0]               \n",
      "__________________________________________________________________________________________________\n",
      "conv1 (Conv2D)                  (None, 21, 21, 16)   1040        observations[0][0]               \n",
      "__________________________________________________________________________________________________\n",
      "conv_value_2 (Conv2D)           (None, 11, 11, 32)   8224        conv_value_1[0][0]               \n",
      "__________________________________________________________________________________________________\n",
      "conv2 (Conv2D)                  (None, 11, 11, 32)   8224        conv1[0][0]                      \n",
      "__________________________________________________________________________________________________\n",
      "conv_value_3 (Conv2D)           (None, 1, 1, 256)    991488      conv_value_2[0][0]               \n",
      "__________________________________________________________________________________________________\n",
      "conv3 (Conv2D)                  (None, 1, 1, 256)    991488      conv2[0][0]                      \n",
      "__________________________________________________________________________________________________\n",
      "conv_value_out (Conv2D)         (None, 1, 1, 1)      257         conv_value_3[0][0]               \n",
      "__________________________________________________________________________________________________\n",
      "conv_out (Conv2D)               (None, 1, 1, 6)      1542        conv3[0][0]                      \n",
      "__________________________________________________________________________________________________\n",
      "lambda (Lambda)                 (None, 1)            0           conv_value_out[0][0]             \n",
      "==================================================================================================\n",
      "Total params: 2,003,303\n",
      "Trainable params: 2,003,303\n",
      "Non-trainable params: 0\n",
      "__________________________________________________________________________________________________\n",
      "None\n"
     ]
    }
   ],
   "source": [
    "ray.shutdown()\n",
    "ray.init()\n",
    "config = ppo.DEFAULT_CONFIG.copy()\n",
    "config['model']['dim'] = 42\n",
    "agent = ppo.PPOTrainer(config, env='Pong-v0')\n",
    "policy=agent.get_policy()\n",
    "print(policy.model.model_config)\n",
    "print(policy.model.base_model.summary())"
   ]
  },
  {
   "cell_type": "code",
   "execution_count": 6,
   "metadata": {},
   "outputs": [
    {
     "name": "stderr",
     "output_type": "stream",
     "text": [
      "\u001b[2m\u001b[36m(pid=2853)\u001b[0m WARNING:tensorflow:From /usr/local/lib/python3.8/dist-packages/ray/rllib/policy/tf_policy.py:875: Variable.load (from tensorflow.python.ops.variables) is deprecated and will be removed in a future version.\n",
      "\u001b[2m\u001b[36m(pid=2853)\u001b[0m Instructions for updating:\n",
      "\u001b[2m\u001b[36m(pid=2853)\u001b[0m Prefer Variable.assign which has equivalent behavior in 2.X.\n",
      "\u001b[2m\u001b[36m(pid=2854)\u001b[0m WARNING:tensorflow:From /usr/local/lib/python3.8/dist-packages/ray/rllib/policy/tf_policy.py:875: Variable.load (from tensorflow.python.ops.variables) is deprecated and will be removed in a future version.\n",
      "\u001b[2m\u001b[36m(pid=2854)\u001b[0m Instructions for updating:\n",
      "\u001b[2m\u001b[36m(pid=2854)\u001b[0m Prefer Variable.assign which has equivalent behavior in 2.X.\n"
     ]
    },
    {
     "name": "stdout",
     "output_type": "stream",
     "text": [
      "/tmp/ppo/pong_42/checkpoint_1/checkpoint-1\n"
     ]
    }
   ],
   "source": [
    "shutil.rmtree('/tmp/ppo/pong_42', ignore_errors=True, onerror=None)\n",
    "result = agent.train()\n",
    "print(agent.save('/tmp/ppo/pong_42'))"
   ]
  },
  {
   "cell_type": "code",
   "execution_count": 27,
   "metadata": {},
   "outputs": [
    {
     "name": "stdout",
     "output_type": "stream",
     "text": [
      "WARNING:tensorflow:From /usr/local/lib/python3.8/dist-packages/tensorflow/python/compat/v2_compat.py:96: disable_resource_variables (from tensorflow.python.ops.variable_scope) is deprecated and will be removed in a future version.\n",
      "Instructions for updating:\n",
      "non-resource variables are not supported in the long term\n",
      "2020-12-04 01:06:42,341\tINFO services.py:1090 -- View the Ray dashboard at \u001b[1m\u001b[32mhttp://127.0.0.1:8265\u001b[39m\u001b[22m\n",
      "2020-12-04 01:06:44,829\tINFO trainer.py:592 -- Tip: set framework=tfe or the --eager flag to enable TensorFlow eager execution\n",
      "2020-12-04 01:06:44,829\tINFO trainer.py:1064 -- `_use_trajectory_view_api` only supported for PyTorch so far! Will run w/o.\n",
      "2020-12-04 01:06:44,829\tINFO trainer.py:617 -- Current log_level is WARN. For more information, set 'log_level': 'INFO' / 'DEBUG' or use the -v and -vv flags.\n",
      "\u001b[2m\u001b[36m(pid=6791)\u001b[0m WARNING:tensorflow:From /usr/local/lib/python3.8/dist-packages/tensorflow/python/compat/v2_compat.py:96: disable_resource_variables (from tensorflow.python.ops.variable_scope) is deprecated and will be removed in a future version.\n",
      "\u001b[2m\u001b[36m(pid=6791)\u001b[0m Instructions for updating:\n",
      "\u001b[2m\u001b[36m(pid=6791)\u001b[0m non-resource variables are not supported in the long term\n",
      "\u001b[2m\u001b[36m(pid=6799)\u001b[0m WARNING:tensorflow:From /usr/local/lib/python3.8/dist-packages/tensorflow/python/compat/v2_compat.py:96: disable_resource_variables (from tensorflow.python.ops.variable_scope) is deprecated and will be removed in a future version.\n",
      "\u001b[2m\u001b[36m(pid=6799)\u001b[0m Instructions for updating:\n",
      "\u001b[2m\u001b[36m(pid=6799)\u001b[0m non-resource variables are not supported in the long term\n",
      "2020-12-04 01:06:53,722\tWARNING util.py:40 -- Install gputil for GPU system monitoring.\n",
      "2020-12-04 01:06:53,985\tINFO trainable.py:481 -- Restored on 10.10.1.128 from checkpoint: /tmp/ppo/pong_42/checkpoint_1/checkpoint-1\n",
      "2020-12-04 01:06:53,985\tINFO trainable.py:489 -- Current state after restoring: {'_iteration': 1, '_timesteps_total': None, '_time_total': 402.9475440979004, '_episodes_total': 0}\n",
      "Episode #0: reward: -21.0\n",
      "Episode #0: model_time: 1.9071316719055176\n",
      "Episode #0: steps: 976\n",
      "Episode #0: average model time per step: 0.0019540283523622106\n",
      "Episode #1: reward: -21.0\n",
      "Episode #1: model_time: 1.9732081890106201\n",
      "Episode #1: steps: 1011\n",
      "Episode #1: average model time per step: 0.0019517390593576855\n",
      "Episode #2: reward: -21.0\n",
      "Episode #2: model_time: 1.7797825336456299\n",
      "Episode #2: steps: 1005\n",
      "Episode #2: average model time per step: 0.0017709278941747562\n",
      "Episode #3: reward: -21.0\n",
      "Episode #3: model_time: 1.813953161239624\n",
      "Episode #3: steps: 1009\n",
      "Episode #3: average model time per step: 0.0017977732024178632\n",
      "Episode #4: reward: -21.0\n",
      "Episode #4: model_time: 1.6122684478759766\n",
      "Episode #4: steps: 1002\n",
      "Episode #4: average model time per step: 0.0016090503471816134\n",
      "Episode #5: reward: -21.0\n",
      "Episode #5: model_time: 1.5788590908050537\n",
      "Episode #5: steps: 993\n",
      "Episode #5: average model time per step: 0.0015899890139023703\n",
      "Episode #6: reward: -21.0\n",
      "Episode #6: model_time: 1.6201272010803223\n",
      "Episode #6: steps: 1021\n",
      "Episode #6: average model time per step: 0.001586804310558592\n",
      "Episode #7: reward: -21.0\n",
      "Episode #7: model_time: 1.571488857269287\n",
      "Episode #7: steps: 988\n",
      "Episode #7: average model time per step: 0.0015905757664668898\n",
      "Episode #8: reward: -21.0\n",
      "Episode #8: model_time: 1.60123872756958\n",
      "Episode #8: steps: 1009\n",
      "Episode #8: average model time per step: 0.0015869561224673737\n",
      "Episode #9: reward: -21.0\n",
      "Episode #9: model_time: 1.6000642776489258\n",
      "Episode #9: steps: 1005\n",
      "Episode #9: average model time per step: 0.0015921037588546526\n",
      "Episodes times:\n",
      "[1.9071316719055176, 1.9732081890106201, 1.7797825336456299, 1.813953161239624, 1.6122684478759766, 1.5788590908050537, 1.6201272010803223, 1.571488857269287, 1.60123872756958, 1.6000642776489258]\n",
      "Total model time: 17.058122158050537\n",
      "Average model time per episode: 1.7058122158050537\n",
      "average model time per step: 0.0017025773188991454\n",
      "Steps:\n",
      "[976, 1011, 1005, 1009, 1002, 993, 1021, 988, 1009, 1005]\n"
     ]
    }
   ],
   "source": [
    "ray.shutdown()\n",
    "!python3 rollout.py /tmp/ppo/pong_42/checkpoint_1/checkpoint-1 --env='Pong-v0' --run PPO --episodes 10"
   ]
  },
  {
   "cell_type": "markdown",
   "metadata": {},
   "source": [
    "### Modelo con imágenes de entrada de tamaño 168x168"
   ]
  },
  {
   "cell_type": "markdown",
   "metadata": {},
   "source": [
    "Para este tamaño de la entrada no tenemos un valor predefinido para los filtros de convolución. Siguiendo la idea de los dos que tenemos de ejemplo, vamos a probar varias opciones."
   ]
  },
  {
   "cell_type": "code",
   "execution_count": 10,
   "metadata": {},
   "outputs": [
    {
     "name": "stderr",
     "output_type": "stream",
     "text": [
      "2020-12-04 00:28:30,443\tINFO services.py:1090 -- View the Ray dashboard at \u001b[1m\u001b[32mhttp://127.0.0.1:8265\u001b[39m\u001b[22m\n",
      "\u001b[2m\u001b[36m(pid=3780)\u001b[0m WARNING:tensorflow:From /usr/local/lib/python3.8/dist-packages/tensorflow/python/compat/v2_compat.py:96: disable_resource_variables (from tensorflow.python.ops.variable_scope) is deprecated and will be removed in a future version.\n",
      "\u001b[2m\u001b[36m(pid=3780)\u001b[0m Instructions for updating:\n",
      "\u001b[2m\u001b[36m(pid=3780)\u001b[0m non-resource variables are not supported in the long term\n",
      "\u001b[2m\u001b[36m(pid=3781)\u001b[0m WARNING:tensorflow:From /usr/local/lib/python3.8/dist-packages/tensorflow/python/compat/v2_compat.py:96: disable_resource_variables (from tensorflow.python.ops.variable_scope) is deprecated and will be removed in a future version.\n",
      "\u001b[2m\u001b[36m(pid=3781)\u001b[0m Instructions for updating:\n",
      "\u001b[2m\u001b[36m(pid=3781)\u001b[0m non-resource variables are not supported in the long term\n",
      "2020-12-04 00:28:41,373\tWARNING util.py:40 -- Install gputil for GPU system monitoring.\n"
     ]
    },
    {
     "name": "stdout",
     "output_type": "stream",
     "text": [
      "{'fcnet_hiddens': [256, 256], 'fcnet_activation': 'tanh', 'conv_filters': [[16, [8, 8], 4], [32, [4, 4], 2], [256, [21, 21], 1]], 'conv_activation': 'relu', 'free_log_std': False, 'no_final_linear': False, 'vf_share_layers': False, 'use_lstm': False, 'max_seq_len': 20, 'lstm_cell_size': 256, 'lstm_use_prev_action_reward': False, '_time_major': False, 'framestack': True, 'dim': 168, 'grayscale': False, 'zero_mean': True, 'custom_model': None, 'custom_model_config': {}, 'custom_action_dist': None, 'custom_preprocessor': None}\n",
      "Model: \"functional_1\"\n",
      "__________________________________________________________________________________________________\n",
      "Layer (type)                    Output Shape         Param #     Connected to                     \n",
      "==================================================================================================\n",
      "observations (InputLayer)       [(None, 168, 168, 4) 0                                            \n",
      "__________________________________________________________________________________________________\n",
      "conv_value_1 (Conv2D)           (None, 42, 42, 16)   4112        observations[0][0]               \n",
      "__________________________________________________________________________________________________\n",
      "conv1 (Conv2D)                  (None, 42, 42, 16)   4112        observations[0][0]               \n",
      "__________________________________________________________________________________________________\n",
      "conv_value_2 (Conv2D)           (None, 21, 21, 32)   8224        conv_value_1[0][0]               \n",
      "__________________________________________________________________________________________________\n",
      "conv2 (Conv2D)                  (None, 21, 21, 32)   8224        conv1[0][0]                      \n",
      "__________________________________________________________________________________________________\n",
      "conv_value_3 (Conv2D)           (None, 1, 1, 256)    3612928     conv_value_2[0][0]               \n",
      "__________________________________________________________________________________________________\n",
      "conv3 (Conv2D)                  (None, 1, 1, 256)    3612928     conv2[0][0]                      \n",
      "__________________________________________________________________________________________________\n",
      "conv_value_out (Conv2D)         (None, 1, 1, 1)      257         conv_value_3[0][0]               \n",
      "__________________________________________________________________________________________________\n",
      "conv_out (Conv2D)               (None, 1, 1, 6)      1542        conv3[0][0]                      \n",
      "__________________________________________________________________________________________________\n",
      "lambda (Lambda)                 (None, 1)            0           conv_value_out[0][0]             \n",
      "==================================================================================================\n",
      "Total params: 7,252,327\n",
      "Trainable params: 7,252,327\n",
      "Non-trainable params: 0\n",
      "__________________________________________________________________________________________________\n",
      "None\n"
     ]
    }
   ],
   "source": [
    "ray.shutdown()\n",
    "ray.init()\n",
    "env = 'Pong-v0'\n",
    "config = ppo.DEFAULT_CONFIG.copy()\n",
    "config['model']['dim'] = 168\n",
    "config['model']['conv_filters'] = [[16, [8, 8], 4],[32, [4, 4], 2],[256, [21, 21], 1]]\n",
    "agent = ppo.PPOTrainer(config, env=env)\n",
    "policy=agent.get_policy()\n",
    "print(policy.model.model_config)\n",
    "print(policy.model.base_model.summary())"
   ]
  },
  {
   "cell_type": "code",
   "execution_count": 11,
   "metadata": {},
   "outputs": [
    {
     "name": "stderr",
     "output_type": "stream",
     "text": [
      "2020-12-04 00:29:04,238\tINFO services.py:1090 -- View the Ray dashboard at \u001b[1m\u001b[32mhttp://127.0.0.1:8265\u001b[39m\u001b[22m\n",
      "\u001b[2m\u001b[36m(pid=3986)\u001b[0m WARNING:tensorflow:From /usr/local/lib/python3.8/dist-packages/tensorflow/python/compat/v2_compat.py:96: disable_resource_variables (from tensorflow.python.ops.variable_scope) is deprecated and will be removed in a future version.\n",
      "\u001b[2m\u001b[36m(pid=3986)\u001b[0m Instructions for updating:\n",
      "\u001b[2m\u001b[36m(pid=3986)\u001b[0m non-resource variables are not supported in the long term\n",
      "\u001b[2m\u001b[36m(pid=3984)\u001b[0m WARNING:tensorflow:From /usr/local/lib/python3.8/dist-packages/tensorflow/python/compat/v2_compat.py:96: disable_resource_variables (from tensorflow.python.ops.variable_scope) is deprecated and will be removed in a future version.\n",
      "\u001b[2m\u001b[36m(pid=3984)\u001b[0m Instructions for updating:\n",
      "\u001b[2m\u001b[36m(pid=3984)\u001b[0m non-resource variables are not supported in the long term\n",
      "2020-12-04 00:29:15,345\tWARNING util.py:40 -- Install gputil for GPU system monitoring.\n"
     ]
    },
    {
     "name": "stdout",
     "output_type": "stream",
     "text": [
      "{'fcnet_hiddens': [256, 256], 'fcnet_activation': 'tanh', 'conv_filters': [[16, [16, 16], 8], [32, [4, 4], 2], [256, [11, 11], 1]], 'conv_activation': 'relu', 'free_log_std': False, 'no_final_linear': False, 'vf_share_layers': False, 'use_lstm': False, 'max_seq_len': 20, 'lstm_cell_size': 256, 'lstm_use_prev_action_reward': False, '_time_major': False, 'framestack': True, 'dim': 168, 'grayscale': False, 'zero_mean': True, 'custom_model': None, 'custom_model_config': {}, 'custom_action_dist': None, 'custom_preprocessor': None}\n",
      "Model: \"functional_1\"\n",
      "__________________________________________________________________________________________________\n",
      "Layer (type)                    Output Shape         Param #     Connected to                     \n",
      "==================================================================================================\n",
      "observations (InputLayer)       [(None, 168, 168, 4) 0                                            \n",
      "__________________________________________________________________________________________________\n",
      "conv_value_1 (Conv2D)           (None, 21, 21, 16)   16400       observations[0][0]               \n",
      "__________________________________________________________________________________________________\n",
      "conv1 (Conv2D)                  (None, 21, 21, 16)   16400       observations[0][0]               \n",
      "__________________________________________________________________________________________________\n",
      "conv_value_2 (Conv2D)           (None, 11, 11, 32)   8224        conv_value_1[0][0]               \n",
      "__________________________________________________________________________________________________\n",
      "conv2 (Conv2D)                  (None, 11, 11, 32)   8224        conv1[0][0]                      \n",
      "__________________________________________________________________________________________________\n",
      "conv_value_3 (Conv2D)           (None, 1, 1, 256)    991488      conv_value_2[0][0]               \n",
      "__________________________________________________________________________________________________\n",
      "conv3 (Conv2D)                  (None, 1, 1, 256)    991488      conv2[0][0]                      \n",
      "__________________________________________________________________________________________________\n",
      "conv_value_out (Conv2D)         (None, 1, 1, 1)      257         conv_value_3[0][0]               \n",
      "__________________________________________________________________________________________________\n",
      "conv_out (Conv2D)               (None, 1, 1, 6)      1542        conv3[0][0]                      \n",
      "__________________________________________________________________________________________________\n",
      "lambda (Lambda)                 (None, 1)            0           conv_value_out[0][0]             \n",
      "==================================================================================================\n",
      "Total params: 2,034,023\n",
      "Trainable params: 2,034,023\n",
      "Non-trainable params: 0\n",
      "__________________________________________________________________________________________________\n",
      "None\n"
     ]
    }
   ],
   "source": [
    "ray.shutdown()\n",
    "ray.init()\n",
    "env = 'Pong-v0'\n",
    "config = ppo.DEFAULT_CONFIG.copy()\n",
    "config['model']['dim'] = 168\n",
    "config['model']['conv_filters'] = [[16, [16, 16], 8],[32, [4, 4], 2],[256, [11, 11], 1]]\n",
    "agent = ppo.PPOTrainer(config, env=env)\n",
    "policy=agent.get_policy()\n",
    "print(policy.model.model_config)\n",
    "print(policy.model.base_model.summary())"
   ]
  },
  {
   "cell_type": "code",
   "execution_count": 14,
   "metadata": {},
   "outputs": [
    {
     "name": "stderr",
     "output_type": "stream",
     "text": [
      "2020-12-04 00:37:51,123\tINFO services.py:1090 -- View the Ray dashboard at \u001b[1m\u001b[32mhttp://127.0.0.1:8265\u001b[39m\u001b[22m\n",
      "\u001b[2m\u001b[36m(pid=4605)\u001b[0m WARNING:tensorflow:From /usr/local/lib/python3.8/dist-packages/tensorflow/python/compat/v2_compat.py:96: disable_resource_variables (from tensorflow.python.ops.variable_scope) is deprecated and will be removed in a future version.\n",
      "\u001b[2m\u001b[36m(pid=4605)\u001b[0m Instructions for updating:\n",
      "\u001b[2m\u001b[36m(pid=4605)\u001b[0m non-resource variables are not supported in the long term\n",
      "\u001b[2m\u001b[36m(pid=4607)\u001b[0m WARNING:tensorflow:From /usr/local/lib/python3.8/dist-packages/tensorflow/python/compat/v2_compat.py:96: disable_resource_variables (from tensorflow.python.ops.variable_scope) is deprecated and will be removed in a future version.\n",
      "\u001b[2m\u001b[36m(pid=4607)\u001b[0m Instructions for updating:\n",
      "\u001b[2m\u001b[36m(pid=4607)\u001b[0m non-resource variables are not supported in the long term\n",
      "2020-12-04 00:38:02,006\tWARNING util.py:40 -- Install gputil for GPU system monitoring.\n"
     ]
    },
    {
     "name": "stdout",
     "output_type": "stream",
     "text": [
      "{'fcnet_hiddens': [256, 256], 'fcnet_activation': 'tanh', 'conv_filters': [[16, [8, 8], 4], [32, [4, 4], 2], [32, [4, 4], 2], [256, [11, 11], 1]], 'conv_activation': 'relu', 'free_log_std': False, 'no_final_linear': False, 'vf_share_layers': False, 'use_lstm': False, 'max_seq_len': 20, 'lstm_cell_size': 256, 'lstm_use_prev_action_reward': False, '_time_major': False, 'framestack': True, 'dim': 168, 'grayscale': False, 'zero_mean': True, 'custom_model': None, 'custom_model_config': {}, 'custom_action_dist': None, 'custom_preprocessor': None}\n",
      "Model: \"functional_1\"\n",
      "__________________________________________________________________________________________________\n",
      "Layer (type)                    Output Shape         Param #     Connected to                     \n",
      "==================================================================================================\n",
      "observations (InputLayer)       [(None, 168, 168, 4) 0                                            \n",
      "__________________________________________________________________________________________________\n",
      "conv_value_1 (Conv2D)           (None, 42, 42, 16)   4112        observations[0][0]               \n",
      "__________________________________________________________________________________________________\n",
      "conv1 (Conv2D)                  (None, 42, 42, 16)   4112        observations[0][0]               \n",
      "__________________________________________________________________________________________________\n",
      "conv_value_2 (Conv2D)           (None, 21, 21, 32)   8224        conv_value_1[0][0]               \n",
      "__________________________________________________________________________________________________\n",
      "conv2 (Conv2D)                  (None, 21, 21, 32)   8224        conv1[0][0]                      \n",
      "__________________________________________________________________________________________________\n",
      "conv_value_3 (Conv2D)           (None, 11, 11, 32)   16416       conv_value_2[0][0]               \n",
      "__________________________________________________________________________________________________\n",
      "conv3 (Conv2D)                  (None, 11, 11, 32)   16416       conv2[0][0]                      \n",
      "__________________________________________________________________________________________________\n",
      "conv_value_4 (Conv2D)           (None, 1, 1, 256)    991488      conv_value_3[0][0]               \n",
      "__________________________________________________________________________________________________\n",
      "conv4 (Conv2D)                  (None, 1, 1, 256)    991488      conv3[0][0]                      \n",
      "__________________________________________________________________________________________________\n",
      "conv_value_out (Conv2D)         (None, 1, 1, 1)      257         conv_value_4[0][0]               \n",
      "__________________________________________________________________________________________________\n",
      "conv_out (Conv2D)               (None, 1, 1, 6)      1542        conv4[0][0]                      \n",
      "__________________________________________________________________________________________________\n",
      "lambda (Lambda)                 (None, 1)            0           conv_value_out[0][0]             \n",
      "==================================================================================================\n",
      "Total params: 2,042,279\n",
      "Trainable params: 2,042,279\n",
      "Non-trainable params: 0\n",
      "__________________________________________________________________________________________________\n",
      "None\n"
     ]
    }
   ],
   "source": [
    "ray.shutdown()\n",
    "ray.init()\n",
    "env = 'Pong-v0'\n",
    "config = ppo.DEFAULT_CONFIG.copy()\n",
    "config['model']['dim'] = 168\n",
    "config['model']['conv_filters'] = [[16, [8, 8], 4],[32, [4, 4], 2],[32, [4, 4], 2], [256, [11, 11], 1]]\n",
    "agent = ppo.PPOTrainer(config, env=env)\n",
    "policy=agent.get_policy()\n",
    "print(policy.model.model_config)\n",
    "print(policy.model.base_model.summary())"
   ]
  },
  {
   "cell_type": "code",
   "execution_count": null,
   "metadata": {},
   "outputs": [],
   "source": [
    "shutil.rmtree('/tmp/ppo/pong_168', ignore_errors=True, onerror=None)\n",
    "result = agent.train()\n",
    "print(agent.save('/tmp/ppo/pong_168'))"
   ]
  },
  {
   "cell_type": "code",
   "execution_count": null,
   "metadata": {},
   "outputs": [],
   "source": [
    "!rllib rollout /tmp/ppo/pong_168/checkpoint_1/checkpoint-1 --env='Pong-v0' --run PPO --episodes 10"
   ]
  },
  {
   "cell_type": "markdown",
   "metadata": {},
   "source": [
    "### Modelo con imágenes de entrada de tamaño 252x252"
   ]
  },
  {
   "cell_type": "code",
   "execution_count": 12,
   "metadata": {},
   "outputs": [
    {
     "name": "stderr",
     "output_type": "stream",
     "text": [
      "2020-12-04 00:29:57,587\tINFO services.py:1090 -- View the Ray dashboard at \u001b[1m\u001b[32mhttp://127.0.0.1:8265\u001b[39m\u001b[22m\n",
      "\u001b[2m\u001b[36m(pid=4187)\u001b[0m WARNING:tensorflow:From /usr/local/lib/python3.8/dist-packages/tensorflow/python/compat/v2_compat.py:96: disable_resource_variables (from tensorflow.python.ops.variable_scope) is deprecated and will be removed in a future version.\n",
      "\u001b[2m\u001b[36m(pid=4187)\u001b[0m Instructions for updating:\n",
      "\u001b[2m\u001b[36m(pid=4187)\u001b[0m non-resource variables are not supported in the long term\n",
      "\u001b[2m\u001b[36m(pid=4189)\u001b[0m WARNING:tensorflow:From /usr/local/lib/python3.8/dist-packages/tensorflow/python/compat/v2_compat.py:96: disable_resource_variables (from tensorflow.python.ops.variable_scope) is deprecated and will be removed in a future version.\n",
      "\u001b[2m\u001b[36m(pid=4189)\u001b[0m Instructions for updating:\n",
      "\u001b[2m\u001b[36m(pid=4189)\u001b[0m non-resource variables are not supported in the long term\n",
      "2020-12-04 00:30:21,199\tINFO trainable.py:252 -- Trainable.setup took 20.843 seconds. If your trainable is slow to initialize, consider setting reuse_actors=True to reduce actor creation overheads.\n",
      "2020-12-04 00:30:21,200\tWARNING util.py:40 -- Install gputil for GPU system monitoring.\n"
     ]
    },
    {
     "name": "stdout",
     "output_type": "stream",
     "text": [
      "{'fcnet_hiddens': [256, 256], 'fcnet_activation': 'tanh', 'conv_filters': [[16, [8, 8], 4], [32, [4, 4], 2], [256, [32, 32], 1]], 'conv_activation': 'relu', 'free_log_std': False, 'no_final_linear': False, 'vf_share_layers': False, 'use_lstm': False, 'max_seq_len': 20, 'lstm_cell_size': 256, 'lstm_use_prev_action_reward': False, '_time_major': False, 'framestack': True, 'dim': 252, 'grayscale': False, 'zero_mean': True, 'custom_model': None, 'custom_model_config': {}, 'custom_action_dist': None, 'custom_preprocessor': None}\n",
      "Model: \"functional_1\"\n",
      "__________________________________________________________________________________________________\n",
      "Layer (type)                    Output Shape         Param #     Connected to                     \n",
      "==================================================================================================\n",
      "observations (InputLayer)       [(None, 252, 252, 4) 0                                            \n",
      "__________________________________________________________________________________________________\n",
      "conv_value_1 (Conv2D)           (None, 63, 63, 16)   4112        observations[0][0]               \n",
      "__________________________________________________________________________________________________\n",
      "conv1 (Conv2D)                  (None, 63, 63, 16)   4112        observations[0][0]               \n",
      "__________________________________________________________________________________________________\n",
      "conv_value_2 (Conv2D)           (None, 32, 32, 32)   8224        conv_value_1[0][0]               \n",
      "__________________________________________________________________________________________________\n",
      "conv2 (Conv2D)                  (None, 32, 32, 32)   8224        conv1[0][0]                      \n",
      "__________________________________________________________________________________________________\n",
      "conv_value_3 (Conv2D)           (None, 1, 1, 256)    8388864     conv_value_2[0][0]               \n",
      "__________________________________________________________________________________________________\n",
      "conv3 (Conv2D)                  (None, 1, 1, 256)    8388864     conv2[0][0]                      \n",
      "__________________________________________________________________________________________________\n",
      "conv_value_out (Conv2D)         (None, 1, 1, 1)      257         conv_value_3[0][0]               \n",
      "__________________________________________________________________________________________________\n",
      "conv_out (Conv2D)               (None, 1, 1, 6)      1542        conv3[0][0]                      \n",
      "__________________________________________________________________________________________________\n",
      "lambda (Lambda)                 (None, 1)            0           conv_value_out[0][0]             \n",
      "==================================================================================================\n",
      "Total params: 16,804,199\n",
      "Trainable params: 16,804,199\n",
      "Non-trainable params: 0\n",
      "__________________________________________________________________________________________________\n",
      "None\n"
     ]
    }
   ],
   "source": [
    "ray.shutdown()\n",
    "ray.init()\n",
    "env = 'Pong-v0'\n",
    "config = ppo.DEFAULT_CONFIG.copy()\n",
    "config['model']['dim'] = 252\n",
    "config['model']['conv_filters'] = [[16, [8, 8], 4],[32, [4, 4], 2],[256, [32, 32], 1]]\n",
    "agent = ppo.PPOTrainer(config, env=env)\n",
    "policy=agent.get_policy()\n",
    "print(policy.model.model_config)\n",
    "print(policy.model.base_model.summary())"
   ]
  },
  {
   "cell_type": "code",
   "execution_count": 13,
   "metadata": {},
   "outputs": [
    {
     "name": "stderr",
     "output_type": "stream",
     "text": [
      "2020-12-04 00:31:48,168\tINFO services.py:1090 -- View the Ray dashboard at \u001b[1m\u001b[32mhttp://127.0.0.1:8265\u001b[39m\u001b[22m\n",
      "\u001b[2m\u001b[36m(pid=4400)\u001b[0m WARNING:tensorflow:From /usr/local/lib/python3.8/dist-packages/tensorflow/python/compat/v2_compat.py:96: disable_resource_variables (from tensorflow.python.ops.variable_scope) is deprecated and will be removed in a future version.\n",
      "\u001b[2m\u001b[36m(pid=4400)\u001b[0m Instructions for updating:\n",
      "\u001b[2m\u001b[36m(pid=4400)\u001b[0m non-resource variables are not supported in the long term\n",
      "\u001b[2m\u001b[36m(pid=4401)\u001b[0m WARNING:tensorflow:From /usr/local/lib/python3.8/dist-packages/tensorflow/python/compat/v2_compat.py:96: disable_resource_variables (from tensorflow.python.ops.variable_scope) is deprecated and will be removed in a future version.\n",
      "\u001b[2m\u001b[36m(pid=4401)\u001b[0m Instructions for updating:\n",
      "\u001b[2m\u001b[36m(pid=4401)\u001b[0m non-resource variables are not supported in the long term\n",
      "2020-12-04 00:32:02,574\tINFO trainable.py:252 -- Trainable.setup took 11.219 seconds. If your trainable is slow to initialize, consider setting reuse_actors=True to reduce actor creation overheads.\n",
      "2020-12-04 00:32:02,575\tWARNING util.py:40 -- Install gputil for GPU system monitoring.\n"
     ]
    },
    {
     "name": "stdout",
     "output_type": "stream",
     "text": [
      "{'fcnet_hiddens': [256, 256], 'fcnet_activation': 'tanh', 'conv_filters': [[16, [16, 16], 8], [32, [4, 4], 2], [256, [16, 16], 1]], 'conv_activation': 'relu', 'free_log_std': False, 'no_final_linear': False, 'vf_share_layers': False, 'use_lstm': False, 'max_seq_len': 20, 'lstm_cell_size': 256, 'lstm_use_prev_action_reward': False, '_time_major': False, 'framestack': True, 'dim': 252, 'grayscale': False, 'zero_mean': True, 'custom_model': None, 'custom_model_config': {}, 'custom_action_dist': None, 'custom_preprocessor': None}\n",
      "Model: \"functional_1\"\n",
      "__________________________________________________________________________________________________\n",
      "Layer (type)                    Output Shape         Param #     Connected to                     \n",
      "==================================================================================================\n",
      "observations (InputLayer)       [(None, 252, 252, 4) 0                                            \n",
      "__________________________________________________________________________________________________\n",
      "conv_value_1 (Conv2D)           (None, 32, 32, 16)   16400       observations[0][0]               \n",
      "__________________________________________________________________________________________________\n",
      "conv1 (Conv2D)                  (None, 32, 32, 16)   16400       observations[0][0]               \n",
      "__________________________________________________________________________________________________\n",
      "conv_value_2 (Conv2D)           (None, 16, 16, 32)   8224        conv_value_1[0][0]               \n",
      "__________________________________________________________________________________________________\n",
      "conv2 (Conv2D)                  (None, 16, 16, 32)   8224        conv1[0][0]                      \n",
      "__________________________________________________________________________________________________\n",
      "conv_value_3 (Conv2D)           (None, 1, 1, 256)    2097408     conv_value_2[0][0]               \n",
      "__________________________________________________________________________________________________\n",
      "conv3 (Conv2D)                  (None, 1, 1, 256)    2097408     conv2[0][0]                      \n",
      "__________________________________________________________________________________________________\n",
      "conv_value_out (Conv2D)         (None, 1, 1, 1)      257         conv_value_3[0][0]               \n",
      "__________________________________________________________________________________________________\n",
      "conv_out (Conv2D)               (None, 1, 1, 6)      1542        conv3[0][0]                      \n",
      "__________________________________________________________________________________________________\n",
      "lambda (Lambda)                 (None, 1)            0           conv_value_out[0][0]             \n",
      "==================================================================================================\n",
      "Total params: 4,245,863\n",
      "Trainable params: 4,245,863\n",
      "Non-trainable params: 0\n",
      "__________________________________________________________________________________________________\n",
      "None\n"
     ]
    }
   ],
   "source": [
    "ray.shutdown()\n",
    "ray.init()\n",
    "env = 'Pong-v0'\n",
    "config = ppo.DEFAULT_CONFIG.copy()\n",
    "config['model']['dim'] = 252\n",
    "config['model']['conv_filters'] = [[16, [16, 16], 8],[32, [4, 4], 2],[256, [16, 16], 1]]\n",
    "agent = ppo.PPOTrainer(config, env=env)\n",
    "policy=agent.get_policy()\n",
    "print(policy.model.model_config)\n",
    "print(policy.model.base_model.summary())"
   ]
  },
  {
   "cell_type": "code",
   "execution_count": 15,
   "metadata": {},
   "outputs": [
    {
     "name": "stderr",
     "output_type": "stream",
     "text": [
      "2020-12-04 00:40:21,352\tINFO services.py:1090 -- View the Ray dashboard at \u001b[1m\u001b[32mhttp://127.0.0.1:8265\u001b[39m\u001b[22m\n",
      "\u001b[2m\u001b[36m(pid=4811)\u001b[0m WARNING:tensorflow:From /usr/local/lib/python3.8/dist-packages/tensorflow/python/compat/v2_compat.py:96: disable_resource_variables (from tensorflow.python.ops.variable_scope) is deprecated and will be removed in a future version.\n",
      "\u001b[2m\u001b[36m(pid=4811)\u001b[0m Instructions for updating:\n",
      "\u001b[2m\u001b[36m(pid=4811)\u001b[0m non-resource variables are not supported in the long term\n",
      "\u001b[2m\u001b[36m(pid=4813)\u001b[0m WARNING:tensorflow:From /usr/local/lib/python3.8/dist-packages/tensorflow/python/compat/v2_compat.py:96: disable_resource_variables (from tensorflow.python.ops.variable_scope) is deprecated and will be removed in a future version.\n",
      "\u001b[2m\u001b[36m(pid=4813)\u001b[0m Instructions for updating:\n",
      "\u001b[2m\u001b[36m(pid=4813)\u001b[0m non-resource variables are not supported in the long term\n",
      "2020-12-04 00:40:33,291\tWARNING util.py:40 -- Install gputil for GPU system monitoring.\n"
     ]
    },
    {
     "name": "stdout",
     "output_type": "stream",
     "text": [
      "{'fcnet_hiddens': [256, 256], 'fcnet_activation': 'tanh', 'conv_filters': [[16, [8, 8], 4], [32, [4, 4], 2], [32, [4, 4], 2], [256, [16, 16], 1]], 'conv_activation': 'relu', 'free_log_std': False, 'no_final_linear': False, 'vf_share_layers': False, 'use_lstm': False, 'max_seq_len': 20, 'lstm_cell_size': 256, 'lstm_use_prev_action_reward': False, '_time_major': False, 'framestack': True, 'dim': 252, 'grayscale': False, 'zero_mean': True, 'custom_model': None, 'custom_model_config': {}, 'custom_action_dist': None, 'custom_preprocessor': None}\n",
      "Model: \"functional_1\"\n",
      "__________________________________________________________________________________________________\n",
      "Layer (type)                    Output Shape         Param #     Connected to                     \n",
      "==================================================================================================\n",
      "observations (InputLayer)       [(None, 252, 252, 4) 0                                            \n",
      "__________________________________________________________________________________________________\n",
      "conv_value_1 (Conv2D)           (None, 63, 63, 16)   4112        observations[0][0]               \n",
      "__________________________________________________________________________________________________\n",
      "conv1 (Conv2D)                  (None, 63, 63, 16)   4112        observations[0][0]               \n",
      "__________________________________________________________________________________________________\n",
      "conv_value_2 (Conv2D)           (None, 32, 32, 32)   8224        conv_value_1[0][0]               \n",
      "__________________________________________________________________________________________________\n",
      "conv2 (Conv2D)                  (None, 32, 32, 32)   8224        conv1[0][0]                      \n",
      "__________________________________________________________________________________________________\n",
      "conv_value_3 (Conv2D)           (None, 16, 16, 32)   16416       conv_value_2[0][0]               \n",
      "__________________________________________________________________________________________________\n",
      "conv3 (Conv2D)                  (None, 16, 16, 32)   16416       conv2[0][0]                      \n",
      "__________________________________________________________________________________________________\n",
      "conv_value_4 (Conv2D)           (None, 1, 1, 256)    2097408     conv_value_3[0][0]               \n",
      "__________________________________________________________________________________________________\n",
      "conv4 (Conv2D)                  (None, 1, 1, 256)    2097408     conv3[0][0]                      \n",
      "__________________________________________________________________________________________________\n",
      "conv_value_out (Conv2D)         (None, 1, 1, 1)      257         conv_value_4[0][0]               \n",
      "__________________________________________________________________________________________________\n",
      "conv_out (Conv2D)               (None, 1, 1, 6)      1542        conv4[0][0]                      \n",
      "__________________________________________________________________________________________________\n",
      "lambda (Lambda)                 (None, 1)            0           conv_value_out[0][0]             \n",
      "==================================================================================================\n",
      "Total params: 4,254,119\n",
      "Trainable params: 4,254,119\n",
      "Non-trainable params: 0\n",
      "__________________________________________________________________________________________________\n",
      "None\n"
     ]
    }
   ],
   "source": [
    "ray.shutdown()\n",
    "ray.init()\n",
    "env = 'Pong-v0'\n",
    "config = ppo.DEFAULT_CONFIG.copy()\n",
    "config['model']['dim'] = 252\n",
    "config['model']['conv_filters'] = [[16, [8, 8], 4],[32, [4, 4], 2], [32, [4, 4], 2], [256, [16, 16], 1]]\n",
    "agent = ppo.PPOTrainer(config, env=env)\n",
    "policy=agent.get_policy()\n",
    "print(policy.model.model_config)\n",
    "print(policy.model.base_model.summary())"
   ]
  },
  {
   "cell_type": "code",
   "execution_count": 16,
   "metadata": {},
   "outputs": [
    {
     "name": "stderr",
     "output_type": "stream",
     "text": [
      "2020-12-04 00:41:45,072\tINFO services.py:1090 -- View the Ray dashboard at \u001b[1m\u001b[32mhttp://127.0.0.1:8265\u001b[39m\u001b[22m\n",
      "\u001b[2m\u001b[36m(pid=5012)\u001b[0m WARNING:tensorflow:From /usr/local/lib/python3.8/dist-packages/tensorflow/python/compat/v2_compat.py:96: disable_resource_variables (from tensorflow.python.ops.variable_scope) is deprecated and will be removed in a future version.\n",
      "\u001b[2m\u001b[36m(pid=5012)\u001b[0m Instructions for updating:\n",
      "\u001b[2m\u001b[36m(pid=5012)\u001b[0m non-resource variables are not supported in the long term\n",
      "\u001b[2m\u001b[36m(pid=5017)\u001b[0m WARNING:tensorflow:From /usr/local/lib/python3.8/dist-packages/tensorflow/python/compat/v2_compat.py:96: disable_resource_variables (from tensorflow.python.ops.variable_scope) is deprecated and will be removed in a future version.\n",
      "\u001b[2m\u001b[36m(pid=5017)\u001b[0m Instructions for updating:\n",
      "\u001b[2m\u001b[36m(pid=5017)\u001b[0m non-resource variables are not supported in the long term\n",
      "2020-12-04 00:41:55,858\tWARNING util.py:40 -- Install gputil for GPU system monitoring.\n"
     ]
    },
    {
     "name": "stdout",
     "output_type": "stream",
     "text": [
      "{'fcnet_hiddens': [256, 256], 'fcnet_activation': 'tanh', 'conv_filters': [[16, [8, 8], 4], [16, [8, 8], 4], [32, [4, 4], 2], [256, [8, 8], 1]], 'conv_activation': 'relu', 'free_log_std': False, 'no_final_linear': False, 'vf_share_layers': False, 'use_lstm': False, 'max_seq_len': 20, 'lstm_cell_size': 256, 'lstm_use_prev_action_reward': False, '_time_major': False, 'framestack': True, 'dim': 252, 'grayscale': False, 'zero_mean': True, 'custom_model': None, 'custom_model_config': {}, 'custom_action_dist': None, 'custom_preprocessor': None}\n",
      "Model: \"functional_1\"\n",
      "__________________________________________________________________________________________________\n",
      "Layer (type)                    Output Shape         Param #     Connected to                     \n",
      "==================================================================================================\n",
      "observations (InputLayer)       [(None, 252, 252, 4) 0                                            \n",
      "__________________________________________________________________________________________________\n",
      "conv_value_1 (Conv2D)           (None, 63, 63, 16)   4112        observations[0][0]               \n",
      "__________________________________________________________________________________________________\n",
      "conv1 (Conv2D)                  (None, 63, 63, 16)   4112        observations[0][0]               \n",
      "__________________________________________________________________________________________________\n",
      "conv_value_2 (Conv2D)           (None, 16, 16, 16)   16400       conv_value_1[0][0]               \n",
      "__________________________________________________________________________________________________\n",
      "conv2 (Conv2D)                  (None, 16, 16, 16)   16400       conv1[0][0]                      \n",
      "__________________________________________________________________________________________________\n",
      "conv_value_3 (Conv2D)           (None, 8, 8, 32)     8224        conv_value_2[0][0]               \n",
      "__________________________________________________________________________________________________\n",
      "conv3 (Conv2D)                  (None, 8, 8, 32)     8224        conv2[0][0]                      \n",
      "__________________________________________________________________________________________________\n",
      "conv_value_4 (Conv2D)           (None, 1, 1, 256)    524544      conv_value_3[0][0]               \n",
      "__________________________________________________________________________________________________\n",
      "conv4 (Conv2D)                  (None, 1, 1, 256)    524544      conv3[0][0]                      \n",
      "__________________________________________________________________________________________________\n",
      "conv_value_out (Conv2D)         (None, 1, 1, 1)      257         conv_value_4[0][0]               \n",
      "__________________________________________________________________________________________________\n",
      "conv_out (Conv2D)               (None, 1, 1, 6)      1542        conv4[0][0]                      \n",
      "__________________________________________________________________________________________________\n",
      "lambda (Lambda)                 (None, 1)            0           conv_value_out[0][0]             \n",
      "==================================================================================================\n",
      "Total params: 1,108,359\n",
      "Trainable params: 1,108,359\n",
      "Non-trainable params: 0\n",
      "__________________________________________________________________________________________________\n",
      "None\n"
     ]
    }
   ],
   "source": [
    "ray.shutdown()\n",
    "ray.init()\n",
    "env = 'Pong-v0'\n",
    "config = ppo.DEFAULT_CONFIG.copy()\n",
    "config['model']['dim'] = 252\n",
    "config['model']['conv_filters'] = [[16, [8, 8], 4],[16, [8, 8], 4], [32, [4, 4], 2], [256, [8, 8], 1]]\n",
    "agent = ppo.PPOTrainer(config, env=env)\n",
    "policy=agent.get_policy()\n",
    "print(policy.model.model_config)\n",
    "print(policy.model.base_model.summary())"
   ]
  }
 ],
 "metadata": {
  "kernelspec": {
   "display_name": "Python 3",
   "language": "python",
   "name": "python3"
  },
  "language_info": {
   "codemirror_mode": {
    "name": "ipython",
    "version": 3
   },
   "file_extension": ".py",
   "mimetype": "text/x-python",
   "name": "python",
   "nbconvert_exporter": "python",
   "pygments_lexer": "ipython3",
   "version": "3.8.5"
  }
 },
 "nbformat": 4,
 "nbformat_minor": 4
}
